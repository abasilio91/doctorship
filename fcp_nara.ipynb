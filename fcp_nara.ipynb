{
  "nbformat": 4,
  "nbformat_minor": 0,
  "metadata": {
    "colab": {
      "name": "fcp_nara.ipynb",
      "provenance": [],
      "include_colab_link": true
    },
    "kernelspec": {
      "name": "python3",
      "display_name": "Python 3"
    },
    "language_info": {
      "name": "python"
    }
  },
  "cells": [
    {
      "cell_type": "markdown",
      "metadata": {
        "id": "view-in-github",
        "colab_type": "text"
      },
      "source": [
        "<a href=\"https://colab.research.google.com/github/abasilio91/doctorship/blob/main/fcp_nara.ipynb\" target=\"_parent\"><img src=\"https://colab.research.google.com/assets/colab-badge.svg\" alt=\"Open In Colab\"/></a>"
      ]
    },
    {
      "cell_type": "code",
      "metadata": {
        "id": "YAn2WlDwbHUh",
        "colab": {
          "base_uri": "https://localhost:8080/"
        },
        "outputId": "2ffdec27-1fd1-43de-eb66-6d5ba9bd14e0"
      },
      "source": [
        "import pandas as pd\n",
        "import numpy as np\n",
        "from scipy import stats\n",
        "from scipy.optimize import differential_evolution as de\n",
        "from scipy.optimize import fsolve\n",
        "from google.colab import drive\n",
        "drive.mount('/gdrive')"
      ],
      "execution_count": 11,
      "outputs": [
        {
          "output_type": "stream",
          "text": [
            "Drive already mounted at /gdrive; to attempt to forcibly remount, call drive.mount(\"/gdrive\", force_remount=True).\n"
          ],
          "name": "stdout"
        }
      ]
    },
    {
      "cell_type": "code",
      "metadata": {
        "id": "3NTGUCAqSZ--",
        "colab": {
          "base_uri": "https://localhost:8080/"
        },
        "outputId": "2c11682e-3ed2-4f62-bc70-57ff45270f81"
      },
      "source": [
        "!git clone https://github.com/Narabcs/doctorship/"
      ],
      "execution_count": 4,
      "outputs": [
        {
          "output_type": "stream",
          "text": [
            "Cloning into 'doctorship'...\n",
            "remote: Enumerating objects: 67, done.\u001b[K\n",
            "remote: Counting objects: 100% (67/67), done.\u001b[K\n",
            "remote: Compressing objects: 100% (66/66), done.\u001b[K\n",
            "remote: Total 67 (delta 30), reused 0 (delta 0), pack-reused 0\u001b[K\n",
            "Unpacking objects: 100% (67/67), done.\n"
          ],
          "name": "stdout"
        }
      ]
    },
    {
      "cell_type": "markdown",
      "metadata": {
        "id": "9oKtRFb8cItD"
      },
      "source": [
        "### Etapa 01:\n",
        "\n",
        "Calculando os valores de tortuosidade utilizando os dados da água\n",
        "---"
      ]
    },
    {
      "cell_type": "code",
      "metadata": {
        "colab": {
          "base_uri": "https://localhost:8080/",
          "height": 203
        },
        "id": "b6MVtzkbbQPW",
        "outputId": "bbee82b7-8c9a-4d33-e243-795487ac89c3"
      },
      "source": [
        "dados = pd.read_csv('/content/doctorship/parameters_water.csv')\n",
        "dados['y_ress'] = dados['yexp']/dados['xexp']\n",
        "dados.head()"
      ],
      "execution_count": null,
      "outputs": [
        {
          "output_type": "execute_result",
          "data": {
            "text/html": [
              "<div>\n",
              "<style scoped>\n",
              "    .dataframe tbody tr th:only-of-type {\n",
              "        vertical-align: middle;\n",
              "    }\n",
              "\n",
              "    .dataframe tbody tr th {\n",
              "        vertical-align: top;\n",
              "    }\n",
              "\n",
              "    .dataframe thead th {\n",
              "        text-align: right;\n",
              "    }\n",
              "</style>\n",
              "<table border=\"1\" class=\"dataframe\">\n",
              "  <thead>\n",
              "    <tr style=\"text-align: right;\">\n",
              "      <th></th>\n",
              "      <th>yexp</th>\n",
              "      <th>mi</th>\n",
              "      <th>xexp</th>\n",
              "      <th>pf</th>\n",
              "      <th>meio</th>\n",
              "      <th>y_ress</th>\n",
              "    </tr>\n",
              "  </thead>\n",
              "  <tbody>\n",
              "    <tr>\n",
              "      <th>0</th>\n",
              "      <td>31500000.0</td>\n",
              "      <td>0.000891</td>\n",
              "      <td>0.0080</td>\n",
              "      <td>997.05</td>\n",
              "      <td>50</td>\n",
              "      <td>3.937500e+09</td>\n",
              "    </tr>\n",
              "    <tr>\n",
              "      <th>1</th>\n",
              "      <td>63000000.0</td>\n",
              "      <td>0.000891</td>\n",
              "      <td>0.0125</td>\n",
              "      <td>997.05</td>\n",
              "      <td>50</td>\n",
              "      <td>5.040000e+09</td>\n",
              "    </tr>\n",
              "    <tr>\n",
              "      <th>2</th>\n",
              "      <td>94500000.0</td>\n",
              "      <td>0.000891</td>\n",
              "      <td>0.0148</td>\n",
              "      <td>997.05</td>\n",
              "      <td>50</td>\n",
              "      <td>6.385135e+09</td>\n",
              "    </tr>\n",
              "    <tr>\n",
              "      <th>3</th>\n",
              "      <td>126000000.0</td>\n",
              "      <td>0.000891</td>\n",
              "      <td>0.0173</td>\n",
              "      <td>997.05</td>\n",
              "      <td>50</td>\n",
              "      <td>7.283237e+09</td>\n",
              "    </tr>\n",
              "    <tr>\n",
              "      <th>4</th>\n",
              "      <td>157000000.0</td>\n",
              "      <td>0.000891</td>\n",
              "      <td>0.0193</td>\n",
              "      <td>997.05</td>\n",
              "      <td>50</td>\n",
              "      <td>8.134715e+09</td>\n",
              "    </tr>\n",
              "  </tbody>\n",
              "</table>\n",
              "</div>"
            ],
            "text/plain": [
              "          yexp        mi    xexp      pf  meio        y_ress\n",
              "0   31500000.0  0.000891  0.0080  997.05    50  3.937500e+09\n",
              "1   63000000.0  0.000891  0.0125  997.05    50  5.040000e+09\n",
              "2   94500000.0  0.000891  0.0148  997.05    50  6.385135e+09\n",
              "3  126000000.0  0.000891  0.0173  997.05    50  7.283237e+09\n",
              "4  157000000.0  0.000891  0.0193  997.05    50  8.134715e+09"
            ]
          },
          "metadata": {
            "tags": []
          },
          "execution_count": 3
        }
      ]
    },
    {
      "cell_type": "code",
      "metadata": {
        "colab": {
          "base_uri": "https://localhost:8080/",
          "height": 142
        },
        "id": "eyOqH203bord",
        "outputId": "5b216889-aa2d-4776-fc68-42a49b0e74d7"
      },
      "source": [
        "ress_50 = stats.linregress(x=dados.query('meio==50')['xexp'],y=dados.query('meio==50')['y_ress'])\n",
        "ress_120 = stats.linregress(x=dados.query('meio==120')['xexp'],y=dados.query('meio==120')['y_ress'])\n",
        "\n",
        "results = {'meio=50':{'r_squared':ress_50.rvalue,\n",
        "           'intercept': ress_50.intercept,\n",
        "           'slope': ress_50.slope},\n",
        "           'meio=120':{'r_squared':ress_120.rvalue,\n",
        "           'intercept': ress_120.intercept,\n",
        "           'slope': ress_120.slope}\n",
        "           }\n",
        "\n",
        "results = pd.DataFrame(results)\n",
        "results"
      ],
      "execution_count": null,
      "outputs": [
        {
          "output_type": "execute_result",
          "data": {
            "text/html": [
              "<div>\n",
              "<style scoped>\n",
              "    .dataframe tbody tr th:only-of-type {\n",
              "        vertical-align: middle;\n",
              "    }\n",
              "\n",
              "    .dataframe tbody tr th {\n",
              "        vertical-align: top;\n",
              "    }\n",
              "\n",
              "    .dataframe thead th {\n",
              "        text-align: right;\n",
              "    }\n",
              "</style>\n",
              "<table border=\"1\" class=\"dataframe\">\n",
              "  <thead>\n",
              "    <tr style=\"text-align: right;\">\n",
              "      <th></th>\n",
              "      <th>meio=50</th>\n",
              "      <th>meio=120</th>\n",
              "    </tr>\n",
              "  </thead>\n",
              "  <tbody>\n",
              "    <tr>\n",
              "      <th>r_squared</th>\n",
              "      <td>9.905125e-01</td>\n",
              "      <td>9.960379e-01</td>\n",
              "    </tr>\n",
              "    <tr>\n",
              "      <th>intercept</th>\n",
              "      <td>1.680439e+08</td>\n",
              "      <td>2.275211e+08</td>\n",
              "    </tr>\n",
              "    <tr>\n",
              "      <th>slope</th>\n",
              "      <td>4.229806e+11</td>\n",
              "      <td>2.715969e+11</td>\n",
              "    </tr>\n",
              "  </tbody>\n",
              "</table>\n",
              "</div>"
            ],
            "text/plain": [
              "                meio=50      meio=120\n",
              "r_squared  9.905125e-01  9.960379e-01\n",
              "intercept  1.680439e+08  2.275211e+08\n",
              "slope      4.229806e+11  2.715969e+11"
            ]
          },
          "metadata": {
            "tags": []
          },
          "execution_count": 4
        }
      ]
    },
    {
      "cell_type": "code",
      "metadata": {
        "id": "J-lz5yunbsIw"
      },
      "source": [
        "def tortuosity(slope,k,pf):\n",
        "  c = slope*k**0.5/pf\n",
        "\n",
        "  return c"
      ],
      "execution_count": null,
      "outputs": []
    },
    {
      "cell_type": "code",
      "metadata": {
        "colab": {
          "base_uri": "https://localhost:8080/"
        },
        "id": "BhZ4m8qlbtuo",
        "outputId": "d3cf61ca-3af5-41b7-8530-90a3aa0757e1"
      },
      "source": [
        "c_50 = tortuosity(results['meio=50'].slope,1.48e-11,dados['pf'].unique())\n",
        "c_120 = tortuosity(results['meio=120'].slope,3.95e-11,dados['pf'].unique())\n",
        "print(f'c_50 = {float(c_50)}, c_120 = {float(c_120)}')"
      ],
      "execution_count": null,
      "outputs": [
        {
          "output_type": "stream",
          "text": [
            "c_50 = 1632.0532436779447, c_120 = 1712.010470506321\n"
          ],
          "name": "stdout"
        }
      ]
    },
    {
      "cell_type": "markdown",
      "metadata": {
        "id": "CrVQPS2pcO8A"
      },
      "source": [
        "### Etapa 02: \n",
        "\n",
        "Estimando os valores de K para as equações de Forchheimmer e Darcy."
      ]
    },
    {
      "cell_type": "code",
      "metadata": {
        "colab": {
          "base_uri": "https://localhost:8080/",
          "height": 203
        },
        "id": "nqchjOLcbwU7",
        "outputId": "3bc0cd89-8341-4bb0-d060-fef574052223"
      },
      "source": [
        "dados_estimacao = pd.read_csv('/content/doctorship/parameters_onlygx.csv')\n",
        "dados_estimacao.head()"
      ],
      "execution_count": null,
      "outputs": [
        {
          "output_type": "execute_result",
          "data": {
            "text/html": [
              "<div>\n",
              "<style scoped>\n",
              "    .dataframe tbody tr th:only-of-type {\n",
              "        vertical-align: middle;\n",
              "    }\n",
              "\n",
              "    .dataframe tbody tr th {\n",
              "        vertical-align: top;\n",
              "    }\n",
              "\n",
              "    .dataframe thead th {\n",
              "        text-align: right;\n",
              "    }\n",
              "</style>\n",
              "<table border=\"1\" class=\"dataframe\">\n",
              "  <thead>\n",
              "    <tr style=\"text-align: right;\">\n",
              "      <th></th>\n",
              "      <th>yexp</th>\n",
              "      <th>m</th>\n",
              "      <th>n</th>\n",
              "      <th>xexp</th>\n",
              "      <th>es</th>\n",
              "      <th>pf</th>\n",
              "      <th>gx</th>\n",
              "      <th>meio</th>\n",
              "      <th>c</th>\n",
              "    </tr>\n",
              "  </thead>\n",
              "  <tbody>\n",
              "    <tr>\n",
              "      <th>0</th>\n",
              "      <td>31500000.0</td>\n",
              "      <td>0.774</td>\n",
              "      <td>0.326</td>\n",
              "      <td>0.00306</td>\n",
              "      <td>0.354</td>\n",
              "      <td>998.28</td>\n",
              "      <td>0.2</td>\n",
              "      <td>50</td>\n",
              "      <td>1650.0</td>\n",
              "    </tr>\n",
              "    <tr>\n",
              "      <th>1</th>\n",
              "      <td>63000000.0</td>\n",
              "      <td>0.784</td>\n",
              "      <td>0.321</td>\n",
              "      <td>0.00703</td>\n",
              "      <td>0.354</td>\n",
              "      <td>998.28</td>\n",
              "      <td>0.2</td>\n",
              "      <td>50</td>\n",
              "      <td>1650.0</td>\n",
              "    </tr>\n",
              "    <tr>\n",
              "      <th>2</th>\n",
              "      <td>94500000.0</td>\n",
              "      <td>0.762</td>\n",
              "      <td>0.325</td>\n",
              "      <td>0.01030</td>\n",
              "      <td>0.354</td>\n",
              "      <td>998.28</td>\n",
              "      <td>0.2</td>\n",
              "      <td>50</td>\n",
              "      <td>1650.0</td>\n",
              "    </tr>\n",
              "    <tr>\n",
              "      <th>3</th>\n",
              "      <td>126000000.0</td>\n",
              "      <td>0.767</td>\n",
              "      <td>0.322</td>\n",
              "      <td>0.01180</td>\n",
              "      <td>0.354</td>\n",
              "      <td>998.28</td>\n",
              "      <td>0.2</td>\n",
              "      <td>50</td>\n",
              "      <td>1650.0</td>\n",
              "    </tr>\n",
              "    <tr>\n",
              "      <th>4</th>\n",
              "      <td>157000000.0</td>\n",
              "      <td>0.771</td>\n",
              "      <td>0.317</td>\n",
              "      <td>0.01450</td>\n",
              "      <td>0.354</td>\n",
              "      <td>998.28</td>\n",
              "      <td>0.2</td>\n",
              "      <td>50</td>\n",
              "      <td>1650.0</td>\n",
              "    </tr>\n",
              "  </tbody>\n",
              "</table>\n",
              "</div>"
            ],
            "text/plain": [
              "          yexp      m      n     xexp     es      pf   gx  meio       c\n",
              "0   31500000.0  0.774  0.326  0.00306  0.354  998.28  0.2    50  1650.0\n",
              "1   63000000.0  0.784  0.321  0.00703  0.354  998.28  0.2    50  1650.0\n",
              "2   94500000.0  0.762  0.325  0.01030  0.354  998.28  0.2    50  1650.0\n",
              "3  126000000.0  0.767  0.322  0.01180  0.354  998.28  0.2    50  1650.0\n",
              "4  157000000.0  0.771  0.317  0.01450  0.354  998.28  0.2    50  1650.0"
            ]
          },
          "metadata": {
            "tags": []
          },
          "execution_count": 7
        }
      ]
    },
    {
      "cell_type": "code",
      "metadata": {
        "id": "ti5f_8CLb24x"
      },
      "source": [
        "def forch_opt(x, dados):\n",
        "  forch = (dados[1] * ((1.1/(2.5*dados[4])**0.5) * dados[3]/x[0]**0.5)**(dados[2]-1))/x[0] * dados[3] + dados[6]*dados[5]/x[0]**0.5 * dados[3]**2\n",
        "  err_rel = abs(dados[0] - forch) / dados[0] \n",
        "\n",
        "  return err_rel\n",
        "\n",
        "def darcy_opt(k, dados):\n",
        "  darcy = (dados[1] * ((1.1/(2.5*dados[4])**0.5) * dados[3]/k**0.5)**(dados[2]-1))/k * dados[3]\n",
        "  err_rel = abs(dados[0] - darcy) / dados[0] \n",
        "  return err_rel\n",
        "\n",
        "def modelo(dados, model:str='forch'):\n",
        "  \n",
        "  if model == 'forch':\n",
        "    mu = (dados['m'] * ((1.1/(2.5*dados['es'])**0.5) * dados['xexp']/dados['k_forch']**0.5)**(dados['n']-1))\n",
        "    y = mu/dados['k_forch'] * dados['xexp'] + dados['c']*dados['pf']/dados['k_forch']**0.5 * dados['xexp']**2\n",
        "\n",
        "  if model == 'darcy':\n",
        "    mu = (dados['m'] * ((1.1/(2.5*dados['es'])**0.5) * dados['xexp']/dados['k_darcy']**0.5)**(dados['n']-1))\n",
        "    y = mu/dados['k_darcy'] * dados['xexp']\n",
        "\n",
        "  return y, mu"
      ],
      "execution_count": null,
      "outputs": []
    },
    {
      "cell_type": "code",
      "metadata": {
        "id": "6yh-8qXCb5Cm"
      },
      "source": [
        "params_bound = [(1e-20,1e-10)]\n",
        "\n",
        "results = []\n",
        "\n",
        "for row in dados_estimacao.iterrows():\n",
        "  dados_selecionados = [row[1]['yexp'], row[1]['m'], row[1]['n'], row[1]['xexp'], row[1]['es'], row[1]['pf'], row[1]['c']]\n",
        "  value = de(func=forch_opt,bounds=params_bound,args=(dados_selecionados,))\n",
        "  results.append(value)\n",
        "\n",
        "df_forch = pd.DataFrame(results)\n",
        "\n",
        "k_bound = [(1e-20,1e-10)]\n",
        "\n",
        "results = []\n",
        "\n",
        "for row in dados_estimacao.iterrows():\n",
        "  dados_selecionados = [row[1]['yexp'], row[1]['m'], row[1]['n'], row[1]['xexp'], row[1]['es'], row[1]['pf'], row[1]['c']]\n",
        "  value = de(func=darcy_opt,bounds=k_bound,args=(dados_selecionados,))\n",
        "  results.append(value)\n",
        "\n",
        "df_darcy = pd.DataFrame(results)"
      ],
      "execution_count": null,
      "outputs": []
    },
    {
      "cell_type": "code",
      "metadata": {
        "colab": {
          "base_uri": "https://localhost:8080/",
          "height": 203
        },
        "id": "uuT0iBTHb7Ja",
        "outputId": "81922622-fa80-4e8f-e528-372384a8d274"
      },
      "source": [
        "k_forch = []\n",
        "k_darcy = []\n",
        "\n",
        "for item in zip(df_forch.x,df_darcy.x):\n",
        "  k_forch.append(item[0][0])\n",
        "  k_darcy.append(item[1][0])\n",
        "dados_estimacao['k_forch'] = k_forch\n",
        "dados_estimacao['k_darcy'] = k_darcy\n",
        "dados_estimacao['dpl_forch'], dados_estimacao['mu_forch'] = modelo(dados_estimacao,model='forch')\n",
        "dados_estimacao['dpl_darcy'], dados_estimacao['mu_darcy'] = modelo(dados_estimacao,model='darcy')\n",
        "dados_estimacao.head()"
      ],
      "execution_count": null,
      "outputs": [
        {
          "output_type": "execute_result",
          "data": {
            "text/html": [
              "<div>\n",
              "<style scoped>\n",
              "    .dataframe tbody tr th:only-of-type {\n",
              "        vertical-align: middle;\n",
              "    }\n",
              "\n",
              "    .dataframe tbody tr th {\n",
              "        vertical-align: top;\n",
              "    }\n",
              "\n",
              "    .dataframe thead th {\n",
              "        text-align: right;\n",
              "    }\n",
              "</style>\n",
              "<table border=\"1\" class=\"dataframe\">\n",
              "  <thead>\n",
              "    <tr style=\"text-align: right;\">\n",
              "      <th></th>\n",
              "      <th>yexp</th>\n",
              "      <th>m</th>\n",
              "      <th>n</th>\n",
              "      <th>xexp</th>\n",
              "      <th>es</th>\n",
              "      <th>pf</th>\n",
              "      <th>gx</th>\n",
              "      <th>meio</th>\n",
              "      <th>c</th>\n",
              "      <th>k_forch</th>\n",
              "      <th>k_darcy</th>\n",
              "      <th>dpl_forch</th>\n",
              "      <th>mu_forch</th>\n",
              "      <th>dpl_darcy</th>\n",
              "      <th>mu_darcy</th>\n",
              "    </tr>\n",
              "  </thead>\n",
              "  <tbody>\n",
              "    <tr>\n",
              "      <th>0</th>\n",
              "      <td>31500000.0</td>\n",
              "      <td>0.774</td>\n",
              "      <td>0.326</td>\n",
              "      <td>0.00306</td>\n",
              "      <td>0.354</td>\n",
              "      <td>998.28</td>\n",
              "      <td>0.2</td>\n",
              "      <td>50</td>\n",
              "      <td>1650.0</td>\n",
              "      <td>6.616216e-13</td>\n",
              "      <td>1.102050e-13</td>\n",
              "      <td>31500000.0</td>\n",
              "      <td>0.002711</td>\n",
              "      <td>4.114602e+07</td>\n",
              "      <td>0.001482</td>\n",
              "    </tr>\n",
              "    <tr>\n",
              "      <th>1</th>\n",
              "      <td>63000000.0</td>\n",
              "      <td>0.784</td>\n",
              "      <td>0.321</td>\n",
              "      <td>0.00703</td>\n",
              "      <td>0.354</td>\n",
              "      <td>998.28</td>\n",
              "      <td>0.2</td>\n",
              "      <td>50</td>\n",
              "      <td>1650.0</td>\n",
              "      <td>2.138180e-12</td>\n",
              "      <td>8.233105e-14</td>\n",
              "      <td>63000000.0</td>\n",
              "      <td>0.002229</td>\n",
              "      <td>6.300000e+07</td>\n",
              "      <td>0.000738</td>\n",
              "    </tr>\n",
              "    <tr>\n",
              "      <th>2</th>\n",
              "      <td>94500000.0</td>\n",
              "      <td>0.762</td>\n",
              "      <td>0.325</td>\n",
              "      <td>0.01030</td>\n",
              "      <td>0.354</td>\n",
              "      <td>998.28</td>\n",
              "      <td>0.2</td>\n",
              "      <td>50</td>\n",
              "      <td>1650.0</td>\n",
              "      <td>3.867145e-12</td>\n",
              "      <td>5.487746e-14</td>\n",
              "      <td>94500000.0</td>\n",
              "      <td>0.002117</td>\n",
              "      <td>9.450000e+07</td>\n",
              "      <td>0.000503</td>\n",
              "    </tr>\n",
              "    <tr>\n",
              "      <th>3</th>\n",
              "      <td>126000000.0</td>\n",
              "      <td>0.767</td>\n",
              "      <td>0.322</td>\n",
              "      <td>0.01180</td>\n",
              "      <td>0.354</td>\n",
              "      <td>998.28</td>\n",
              "      <td>0.2</td>\n",
              "      <td>50</td>\n",
              "      <td>1650.0</td>\n",
              "      <td>3.652774e-12</td>\n",
              "      <td>3.648027e-14</td>\n",
              "      <td>126000000.0</td>\n",
              "      <td>0.001857</td>\n",
              "      <td>1.260000e+08</td>\n",
              "      <td>0.000390</td>\n",
              "    </tr>\n",
              "    <tr>\n",
              "      <th>4</th>\n",
              "      <td>157000000.0</td>\n",
              "      <td>0.771</td>\n",
              "      <td>0.317</td>\n",
              "      <td>0.01450</td>\n",
              "      <td>0.354</td>\n",
              "      <td>998.28</td>\n",
              "      <td>0.2</td>\n",
              "      <td>50</td>\n",
              "      <td>1650.0</td>\n",
              "      <td>5.183517e-12</td>\n",
              "      <td>2.670566e-14</td>\n",
              "      <td>157000000.0</td>\n",
              "      <td>0.001748</td>\n",
              "      <td>1.570000e+08</td>\n",
              "      <td>0.000289</td>\n",
              "    </tr>\n",
              "  </tbody>\n",
              "</table>\n",
              "</div>"
            ],
            "text/plain": [
              "          yexp      m      n  ...  mu_forch     dpl_darcy  mu_darcy\n",
              "0   31500000.0  0.774  0.326  ...  0.002711  4.114602e+07  0.001482\n",
              "1   63000000.0  0.784  0.321  ...  0.002229  6.300000e+07  0.000738\n",
              "2   94500000.0  0.762  0.325  ...  0.002117  9.450000e+07  0.000503\n",
              "3  126000000.0  0.767  0.322  ...  0.001857  1.260000e+08  0.000390\n",
              "4  157000000.0  0.771  0.317  ...  0.001748  1.570000e+08  0.000289\n",
              "\n",
              "[5 rows x 15 columns]"
            ]
          },
          "metadata": {
            "tags": []
          },
          "execution_count": 10
        }
      ]
    },
    {
      "cell_type": "code",
      "metadata": {
        "colab": {
          "base_uri": "https://localhost:8080/"
        },
        "id": "-YynkvBZS3-a",
        "outputId": "d15238e2-743f-460d-bdf1-0e330ce87a65"
      },
      "source": [
        "from google.colab import drive\n",
        "drive.mount('/gdrive')"
      ],
      "execution_count": null,
      "outputs": [
        {
          "output_type": "stream",
          "text": [
            "Mounted at /gdrive\n"
          ],
          "name": "stdout"
        }
      ]
    },
    {
      "cell_type": "code",
      "metadata": {
        "id": "Igq7_DyUS3-b"
      },
      "source": [
        "# with open('/gdrive/My Drive/foo.txt', 'w') as f:\n",
        "#   f.write('Hello Google Drive!')\n",
        "# !cat '/gdrive/My Drive/foo.txt'\n",
        "\n",
        "dados_estimacao.to_csv('/gdrive/MyDrive/Colab Notebooks/etapa_3.csv')"
      ],
      "execution_count": null,
      "outputs": []
    },
    {
      "cell_type": "markdown",
      "metadata": {
        "id": "O8ajvOtUcVmw"
      },
      "source": [
        "### Etapa 03:\n",
        "\n",
        "Estimar a permeabilidade da torta"
      ]
    },
    {
      "cell_type": "code",
      "metadata": {
        "id": "1jELU_6Lb-Zp"
      },
      "source": [
        "def fo_eval(x,params,num_points):\n",
        "\n",
        "  def diff_model(x,params,beta,num_points):\n",
        "    # beta = [bkc, bkm]\n",
        "\n",
        "    dP = params['dP']\n",
        "    m = params['m']\n",
        "    n = params['n']\n",
        "    ec = params['ec']\n",
        "    pfil = params['pfil']\n",
        "    ps = params['ps']\n",
        "    A = params['A']\n",
        "    Cs = params['Cs']\n",
        "    lm = params['lm']\n",
        "    km0 = params['km0']\n",
        "    t = params['t']\n",
        "\n",
        "    h = t/(num_points-1)\n",
        "    kc = np.exp(-beta[0]/t) - 1\n",
        "    km = km0*np.exp(-beta[1]*t)\n",
        "    alpha = 1 / (ps*(1-ec)*kc)\n",
        "    B = dP*A**n/(m*(1.1/(2.5*ec)**0.5*1/(kc**0.5))**(n-1))\n",
        "    omega = Cs*pfil/(A*ps*(1-ec)*kc)\n",
        "\n",
        "    x = np.zeros(num_points)\n",
        "    x[0] = 0\n",
        "    x[-1] = 2\n",
        "\n",
        "    dx = np.zeros_like(x)\n",
        "    dx[0] = (x[1] - x[0])/(2*h)\n",
        "    dx[-1] = (x[-1] - x[-2])/(2*h)\n",
        "    dx[1:-1] = (x[2:] - x[:-2])/(2*h)\n",
        "    \n",
        "    return dx**n*(omega*x + lm/km) - B\n",
        "\n",
        "  beta = [x[0], x[1]]\n",
        "  V_cal = []\n",
        "  \n",
        "  for row in params.iterrows():\n",
        "    exp_line = dict(row[1])\n",
        "    guess = np.zeros(num_points, float)\n",
        "    sol = fsolve(func=diff_model, x0=guess, args=(exp_line,beta,num_points))\n",
        "    V_cal.append(sol[-1])\n",
        "\n",
        "  params['V_cal'] = V_cal\n",
        "\n",
        "  rel_err_for_row = abs(params['V']-params['V_cal']) / params['V']\n",
        "  mean_rel_err = rel_err_for_row.mean()\n",
        "\n",
        "  return mean_rel_err"
      ],
      "execution_count": 23,
      "outputs": []
    },
    {
      "cell_type": "code",
      "metadata": {
        "colab": {
          "base_uri": "https://localhost:8080/",
          "height": 204
        },
        "id": "bO5eTyglcACe",
        "outputId": "99f1bd20-6d28-4150-c6ed-52cff6b59385"
      },
      "source": [
        "dados_torta = pd.read_csv('/content/doctorship/parameters_gx_caco3.csv')\n",
        "dados_torta.head()"
      ],
      "execution_count": 6,
      "outputs": [
        {
          "output_type": "execute_result",
          "data": {
            "text/html": [
              "<div>\n",
              "<style scoped>\n",
              "    .dataframe tbody tr th:only-of-type {\n",
              "        vertical-align: middle;\n",
              "    }\n",
              "\n",
              "    .dataframe tbody tr th {\n",
              "        vertical-align: top;\n",
              "    }\n",
              "\n",
              "    .dataframe thead th {\n",
              "        text-align: right;\n",
              "    }\n",
              "</style>\n",
              "<table border=\"1\" class=\"dataframe\">\n",
              "  <thead>\n",
              "    <tr style=\"text-align: right;\">\n",
              "      <th></th>\n",
              "      <th>dP</th>\n",
              "      <th>m</th>\n",
              "      <th>n</th>\n",
              "      <th>ec</th>\n",
              "      <th>pfil</th>\n",
              "      <th>ps</th>\n",
              "      <th>A</th>\n",
              "      <th>Cs</th>\n",
              "      <th>t</th>\n",
              "      <th>V</th>\n",
              "      <th>lm</th>\n",
              "      <th>km0</th>\n",
              "      <th>XG</th>\n",
              "      <th>medium</th>\n",
              "    </tr>\n",
              "  </thead>\n",
              "  <tbody>\n",
              "    <tr>\n",
              "      <th>0</th>\n",
              "      <td>200000.0</td>\n",
              "      <td>0.81</td>\n",
              "      <td>0.3</td>\n",
              "      <td>0.51</td>\n",
              "      <td>1080.0</td>\n",
              "      <td>2808</td>\n",
              "      <td>0.00229</td>\n",
              "      <td>0.000133</td>\n",
              "      <td>60</td>\n",
              "      <td>0.000003</td>\n",
              "      <td>0.00635</td>\n",
              "      <td>1.480000e-11</td>\n",
              "      <td>0.2</td>\n",
              "      <td>50</td>\n",
              "    </tr>\n",
              "    <tr>\n",
              "      <th>1</th>\n",
              "      <td>200000.0</td>\n",
              "      <td>0.81</td>\n",
              "      <td>0.3</td>\n",
              "      <td>0.51</td>\n",
              "      <td>1080.0</td>\n",
              "      <td>2808</td>\n",
              "      <td>0.00229</td>\n",
              "      <td>0.000133</td>\n",
              "      <td>300</td>\n",
              "      <td>0.000008</td>\n",
              "      <td>0.00635</td>\n",
              "      <td>1.480000e-11</td>\n",
              "      <td>0.2</td>\n",
              "      <td>50</td>\n",
              "    </tr>\n",
              "    <tr>\n",
              "      <th>2</th>\n",
              "      <td>200000.0</td>\n",
              "      <td>0.81</td>\n",
              "      <td>0.3</td>\n",
              "      <td>0.51</td>\n",
              "      <td>1080.0</td>\n",
              "      <td>2808</td>\n",
              "      <td>0.00229</td>\n",
              "      <td>0.000133</td>\n",
              "      <td>600</td>\n",
              "      <td>0.000011</td>\n",
              "      <td>0.00635</td>\n",
              "      <td>1.480000e-11</td>\n",
              "      <td>0.2</td>\n",
              "      <td>50</td>\n",
              "    </tr>\n",
              "    <tr>\n",
              "      <th>3</th>\n",
              "      <td>200000.0</td>\n",
              "      <td>0.81</td>\n",
              "      <td>0.3</td>\n",
              "      <td>0.51</td>\n",
              "      <td>1080.0</td>\n",
              "      <td>2808</td>\n",
              "      <td>0.00229</td>\n",
              "      <td>0.000133</td>\n",
              "      <td>900</td>\n",
              "      <td>0.000013</td>\n",
              "      <td>0.00635</td>\n",
              "      <td>1.480000e-11</td>\n",
              "      <td>0.2</td>\n",
              "      <td>50</td>\n",
              "    </tr>\n",
              "    <tr>\n",
              "      <th>4</th>\n",
              "      <td>200000.0</td>\n",
              "      <td>0.81</td>\n",
              "      <td>0.3</td>\n",
              "      <td>0.51</td>\n",
              "      <td>1080.0</td>\n",
              "      <td>2808</td>\n",
              "      <td>0.00229</td>\n",
              "      <td>0.000133</td>\n",
              "      <td>1200</td>\n",
              "      <td>0.000014</td>\n",
              "      <td>0.00635</td>\n",
              "      <td>1.480000e-11</td>\n",
              "      <td>0.2</td>\n",
              "      <td>50</td>\n",
              "    </tr>\n",
              "  </tbody>\n",
              "</table>\n",
              "</div>"
            ],
            "text/plain": [
              "         dP     m    n    ec  ...       lm           km0   XG  medium\n",
              "0  200000.0  0.81  0.3  0.51  ...  0.00635  1.480000e-11  0.2      50\n",
              "1  200000.0  0.81  0.3  0.51  ...  0.00635  1.480000e-11  0.2      50\n",
              "2  200000.0  0.81  0.3  0.51  ...  0.00635  1.480000e-11  0.2      50\n",
              "3  200000.0  0.81  0.3  0.51  ...  0.00635  1.480000e-11  0.2      50\n",
              "4  200000.0  0.81  0.3  0.51  ...  0.00635  1.480000e-11  0.2      50\n",
              "\n",
              "[5 rows x 14 columns]"
            ]
          },
          "metadata": {
            "tags": []
          },
          "execution_count": 6
        }
      ]
    },
    {
      "cell_type": "code",
      "metadata": {
        "colab": {
          "base_uri": "https://localhost:8080/",
          "height": 266
        },
        "id": "LgKsnISRZUTv",
        "outputId": "076ca7e0-fe64-4e91-a49c-007d887513ca"
      },
      "source": [
        "data_selection = dados_torta.query('XG==0.2 and medium==50 and dP==2e5')\n",
        "data_selection"
      ],
      "execution_count": 7,
      "outputs": [
        {
          "output_type": "execute_result",
          "data": {
            "text/html": [
              "<div>\n",
              "<style scoped>\n",
              "    .dataframe tbody tr th:only-of-type {\n",
              "        vertical-align: middle;\n",
              "    }\n",
              "\n",
              "    .dataframe tbody tr th {\n",
              "        vertical-align: top;\n",
              "    }\n",
              "\n",
              "    .dataframe thead th {\n",
              "        text-align: right;\n",
              "    }\n",
              "</style>\n",
              "<table border=\"1\" class=\"dataframe\">\n",
              "  <thead>\n",
              "    <tr style=\"text-align: right;\">\n",
              "      <th></th>\n",
              "      <th>dP</th>\n",
              "      <th>m</th>\n",
              "      <th>n</th>\n",
              "      <th>ec</th>\n",
              "      <th>pfil</th>\n",
              "      <th>ps</th>\n",
              "      <th>A</th>\n",
              "      <th>Cs</th>\n",
              "      <th>t</th>\n",
              "      <th>V</th>\n",
              "      <th>lm</th>\n",
              "      <th>km0</th>\n",
              "      <th>XG</th>\n",
              "      <th>medium</th>\n",
              "    </tr>\n",
              "  </thead>\n",
              "  <tbody>\n",
              "    <tr>\n",
              "      <th>0</th>\n",
              "      <td>200000.0</td>\n",
              "      <td>0.81</td>\n",
              "      <td>0.3</td>\n",
              "      <td>0.51</td>\n",
              "      <td>1080.0</td>\n",
              "      <td>2808</td>\n",
              "      <td>0.00229</td>\n",
              "      <td>0.000133</td>\n",
              "      <td>60</td>\n",
              "      <td>0.000003</td>\n",
              "      <td>0.00635</td>\n",
              "      <td>1.480000e-11</td>\n",
              "      <td>0.2</td>\n",
              "      <td>50</td>\n",
              "    </tr>\n",
              "    <tr>\n",
              "      <th>1</th>\n",
              "      <td>200000.0</td>\n",
              "      <td>0.81</td>\n",
              "      <td>0.3</td>\n",
              "      <td>0.51</td>\n",
              "      <td>1080.0</td>\n",
              "      <td>2808</td>\n",
              "      <td>0.00229</td>\n",
              "      <td>0.000133</td>\n",
              "      <td>300</td>\n",
              "      <td>0.000008</td>\n",
              "      <td>0.00635</td>\n",
              "      <td>1.480000e-11</td>\n",
              "      <td>0.2</td>\n",
              "      <td>50</td>\n",
              "    </tr>\n",
              "    <tr>\n",
              "      <th>2</th>\n",
              "      <td>200000.0</td>\n",
              "      <td>0.81</td>\n",
              "      <td>0.3</td>\n",
              "      <td>0.51</td>\n",
              "      <td>1080.0</td>\n",
              "      <td>2808</td>\n",
              "      <td>0.00229</td>\n",
              "      <td>0.000133</td>\n",
              "      <td>600</td>\n",
              "      <td>0.000011</td>\n",
              "      <td>0.00635</td>\n",
              "      <td>1.480000e-11</td>\n",
              "      <td>0.2</td>\n",
              "      <td>50</td>\n",
              "    </tr>\n",
              "    <tr>\n",
              "      <th>3</th>\n",
              "      <td>200000.0</td>\n",
              "      <td>0.81</td>\n",
              "      <td>0.3</td>\n",
              "      <td>0.51</td>\n",
              "      <td>1080.0</td>\n",
              "      <td>2808</td>\n",
              "      <td>0.00229</td>\n",
              "      <td>0.000133</td>\n",
              "      <td>900</td>\n",
              "      <td>0.000013</td>\n",
              "      <td>0.00635</td>\n",
              "      <td>1.480000e-11</td>\n",
              "      <td>0.2</td>\n",
              "      <td>50</td>\n",
              "    </tr>\n",
              "    <tr>\n",
              "      <th>4</th>\n",
              "      <td>200000.0</td>\n",
              "      <td>0.81</td>\n",
              "      <td>0.3</td>\n",
              "      <td>0.51</td>\n",
              "      <td>1080.0</td>\n",
              "      <td>2808</td>\n",
              "      <td>0.00229</td>\n",
              "      <td>0.000133</td>\n",
              "      <td>1200</td>\n",
              "      <td>0.000014</td>\n",
              "      <td>0.00635</td>\n",
              "      <td>1.480000e-11</td>\n",
              "      <td>0.2</td>\n",
              "      <td>50</td>\n",
              "    </tr>\n",
              "    <tr>\n",
              "      <th>5</th>\n",
              "      <td>200000.0</td>\n",
              "      <td>0.81</td>\n",
              "      <td>0.3</td>\n",
              "      <td>0.51</td>\n",
              "      <td>1080.0</td>\n",
              "      <td>2808</td>\n",
              "      <td>0.00229</td>\n",
              "      <td>0.000133</td>\n",
              "      <td>1500</td>\n",
              "      <td>0.000016</td>\n",
              "      <td>0.00635</td>\n",
              "      <td>1.480000e-11</td>\n",
              "      <td>0.2</td>\n",
              "      <td>50</td>\n",
              "    </tr>\n",
              "    <tr>\n",
              "      <th>6</th>\n",
              "      <td>200000.0</td>\n",
              "      <td>0.81</td>\n",
              "      <td>0.3</td>\n",
              "      <td>0.51</td>\n",
              "      <td>1080.0</td>\n",
              "      <td>2808</td>\n",
              "      <td>0.00229</td>\n",
              "      <td>0.000133</td>\n",
              "      <td>1800</td>\n",
              "      <td>0.000017</td>\n",
              "      <td>0.00635</td>\n",
              "      <td>1.480000e-11</td>\n",
              "      <td>0.2</td>\n",
              "      <td>50</td>\n",
              "    </tr>\n",
              "  </tbody>\n",
              "</table>\n",
              "</div>"
            ],
            "text/plain": [
              "         dP     m    n    ec  ...       lm           km0   XG  medium\n",
              "0  200000.0  0.81  0.3  0.51  ...  0.00635  1.480000e-11  0.2      50\n",
              "1  200000.0  0.81  0.3  0.51  ...  0.00635  1.480000e-11  0.2      50\n",
              "2  200000.0  0.81  0.3  0.51  ...  0.00635  1.480000e-11  0.2      50\n",
              "3  200000.0  0.81  0.3  0.51  ...  0.00635  1.480000e-11  0.2      50\n",
              "4  200000.0  0.81  0.3  0.51  ...  0.00635  1.480000e-11  0.2      50\n",
              "5  200000.0  0.81  0.3  0.51  ...  0.00635  1.480000e-11  0.2      50\n",
              "6  200000.0  0.81  0.3  0.51  ...  0.00635  1.480000e-11  0.2      50\n",
              "\n",
              "[7 rows x 14 columns]"
            ]
          },
          "metadata": {
            "tags": []
          },
          "execution_count": 7
        }
      ]
    },
    {
      "cell_type": "code",
      "metadata": {
        "colab": {
          "base_uri": "https://localhost:8080/"
        },
        "id": "EppOldlDcCWB",
        "outputId": "ce56fc0a-d5c2-4c8e-e834-0ca86a758a0c"
      },
      "source": [
        "params_bound = [(-100,100), (-100,100)]\n",
        "# params_bound = [bkc, bkm]\n",
        "# easter egg\n",
        "results = []\n",
        "num_points = 20\n",
        "value = de(func=fo_eval, bounds=params_bound, args=(data_selection,num_points), maxiter=5000)\n",
        "results.append(value)"
      ],
      "execution_count": 24,
      "outputs": [
        {
          "output_type": "stream",
          "text": [
            "/usr/local/lib/python3.7/dist-packages/ipykernel_launcher.py:20: RuntimeWarning: overflow encountered in exp\n",
            "/usr/local/lib/python3.7/dist-packages/scipy/optimize/minpack.py:162: RuntimeWarning: The iteration is not making good progress, as measured by the \n",
            "  improvement from the last ten iterations.\n",
            "  warnings.warn(msg, RuntimeWarning)\n",
            "/usr/local/lib/python3.7/dist-packages/ipykernel_launcher.py:45: SettingWithCopyWarning: \n",
            "A value is trying to be set on a copy of a slice from a DataFrame.\n",
            "Try using .loc[row_indexer,col_indexer] = value instead\n",
            "\n",
            "See the caveats in the documentation: https://pandas.pydata.org/pandas-docs/stable/user_guide/indexing.html#returning-a-view-versus-a-copy\n",
            "/usr/local/lib/python3.7/dist-packages/ipykernel_launcher.py:22: RuntimeWarning: invalid value encountered in double_scalars\n",
            "/usr/local/lib/python3.7/dist-packages/ipykernel_launcher.py:34: RuntimeWarning: divide by zero encountered in double_scalars\n",
            "/usr/local/lib/python3.7/dist-packages/ipykernel_launcher.py:34: RuntimeWarning: invalid value encountered in multiply\n"
          ],
          "name": "stderr"
        }
      ]
    },
    {
      "cell_type": "code",
      "metadata": {
        "id": "mPnPibwM5cal",
        "outputId": "b8cdc562-5c0c-45ff-840d-9c64126e08e4",
        "colab": {
          "base_uri": "https://localhost:8080/",
          "height": 80
        }
      },
      "source": [
        "df_torta = pd.DataFrame(results)\n",
        "df_torta"
      ],
      "execution_count": 25,
      "outputs": [
        {
          "output_type": "execute_result",
          "data": {
            "text/html": [
              "<div>\n",
              "<style scoped>\n",
              "    .dataframe tbody tr th:only-of-type {\n",
              "        vertical-align: middle;\n",
              "    }\n",
              "\n",
              "    .dataframe tbody tr th {\n",
              "        vertical-align: top;\n",
              "    }\n",
              "\n",
              "    .dataframe thead th {\n",
              "        text-align: right;\n",
              "    }\n",
              "</style>\n",
              "<table border=\"1\" class=\"dataframe\">\n",
              "  <thead>\n",
              "    <tr style=\"text-align: right;\">\n",
              "      <th></th>\n",
              "      <th>x</th>\n",
              "      <th>fun</th>\n",
              "      <th>nfev</th>\n",
              "      <th>nit</th>\n",
              "      <th>message</th>\n",
              "      <th>success</th>\n",
              "    </tr>\n",
              "  </thead>\n",
              "  <tbody>\n",
              "    <tr>\n",
              "      <th>0</th>\n",
              "      <td>[-26.072082086746708, -33.63394472701329]</td>\n",
              "      <td>1.0</td>\n",
              "      <td>63</td>\n",
              "      <td>1</td>\n",
              "      <td>Optimization terminated successfully.</td>\n",
              "      <td>True</td>\n",
              "    </tr>\n",
              "  </tbody>\n",
              "</table>\n",
              "</div>"
            ],
            "text/plain": [
              "                                           x  ...  success\n",
              "0  [-26.072082086746708, -33.63394472701329]  ...     True\n",
              "\n",
              "[1 rows x 6 columns]"
            ]
          },
          "metadata": {
            "tags": []
          },
          "execution_count": 25
        }
      ]
    },
    {
      "cell_type": "code",
      "metadata": {
        "id": "Lb8ET6pAcD_O"
      },
      "source": [
        "k_torta = []\n",
        "\n",
        "for item in df_torta.x:\n",
        "  k_torta.append(float(item))\n",
        "  \n",
        "dados_torta['k_torta'] = k_torta\n",
        "dados_torta.head()"
      ],
      "execution_count": null,
      "outputs": []
    }
  ]
}